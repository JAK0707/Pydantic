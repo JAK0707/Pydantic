{
  "cells": [
    {
      "cell_type": "markdown",
      "metadata": {
        "id": "view-in-github",
        "colab_type": "text"
      },
      "source": [
        "<a href=\"https://colab.research.google.com/github/JAK0707/Pydantic/blob/main/pydantic.ipynb\" target=\"_parent\"><img src=\"https://colab.research.google.com/assets/colab-badge.svg\" alt=\"Open In Colab\"/></a>"
      ]
    },
    {
      "cell_type": "markdown",
      "metadata": {
        "id": "rV5M4GyUbTsl"
      },
      "source": [
        "#### Pydantic Basics: Creating and Using Models\n",
        "Pydantic models are the foundation of data validation in Python. They use Python type annotations to define the structure and validate data at runtime. Here's a detailed exploration of basic model creation with several examples.\n",
        "\n"
      ]
    },
    {
      "cell_type": "code",
      "execution_count": 1,
      "metadata": {
        "id": "58mObr9XbTsp"
      },
      "outputs": [],
      "source": [
        "from pydantic import BaseModel"
      ]
    },
    {
      "cell_type": "markdown",
      "source": [
        "using dataclass (this does not provide data validation so even if I provide another type of value than what is specified, it will still work without error), which is an issue"
      ],
      "metadata": {
        "id": "Zabv-h3dfX79"
      }
    },
    {
      "cell_type": "code",
      "execution_count": 2,
      "metadata": {
        "colab": {
          "base_uri": "https://localhost:8080/"
        },
        "id": "QD2W3AkObTsq",
        "outputId": "8372956d-0c44-4678-fdc4-ddea357cf41e"
      },
      "outputs": [
        {
          "output_type": "stream",
          "name": "stdout",
          "text": [
            "Person(name='Jaiditya', age=20, city='Alwar')\n"
          ]
        }
      ],
      "source": [
        "from dataclasses import dataclass\n",
        "\n",
        "@dataclass\n",
        "class Person():\n",
        "    name:str\n",
        "    age:int\n",
        "    city:str\n",
        "\n",
        "person=Person(name=\"Jaiditya\",age=20,city=\"Alwar\")\n",
        "print(person)\n"
      ]
    },
    {
      "cell_type": "markdown",
      "source": [
        "city is string , but i defined as an integer below , but it works without error"
      ],
      "metadata": {
        "id": "LLJCm7RdfnfG"
      }
    },
    {
      "cell_type": "code",
      "execution_count": 3,
      "metadata": {
        "colab": {
          "base_uri": "https://localhost:8080/"
        },
        "id": "aLQ9YOcWbTss",
        "outputId": "e0ef8f56-db76-4595-b2fc-6a9331f610fc"
      },
      "outputs": [
        {
          "output_type": "stream",
          "name": "stdout",
          "text": [
            "Person(name='Jaiditya', age=20, city=35)\n"
          ]
        }
      ],
      "source": [
        "person=Person(name=\"Jaiditya\",age=20,city=35)\n",
        "print(person)"
      ]
    },
    {
      "cell_type": "markdown",
      "source": [
        "**using pydantic**"
      ],
      "metadata": {
        "id": "s4uvHU6Bf2Iv"
      }
    },
    {
      "cell_type": "code",
      "execution_count": 4,
      "metadata": {
        "colab": {
          "base_uri": "https://localhost:8080/"
        },
        "id": "2AaNvP99bTst",
        "outputId": "41140839-7e96-429d-d9e9-a66fe904188d"
      },
      "outputs": [
        {
          "output_type": "stream",
          "name": "stdout",
          "text": [
            "name='Jaiditya' age=20 city='Alwar'\n"
          ]
        }
      ],
      "source": [
        "class Person1(BaseModel):\n",
        "    name:str\n",
        "    age:int\n",
        "    city:str\n",
        "\n",
        "person=Person1(name=\"Jaiditya\",age=20,city=\"Alwar\")\n",
        "print(person)"
      ]
    },
    {
      "cell_type": "markdown",
      "source": [
        "i used pydantic, so it will perform data validation and will through an error"
      ],
      "metadata": {
        "id": "0r4KtvLLf77G"
      }
    },
    {
      "cell_type": "code",
      "execution_count": 5,
      "metadata": {
        "colab": {
          "base_uri": "https://localhost:8080/",
          "height": 332
        },
        "id": "2kYffylabTsu",
        "outputId": "8236bb58-126c-4df2-b85f-7230c8709f1b"
      },
      "outputs": [
        {
          "output_type": "error",
          "ename": "ValidationError",
          "evalue": "1 validation error for Person1\ncity\n  Input should be a valid string [type=string_type, input_value=12, input_type=int]\n    For further information visit https://errors.pydantic.dev/2.11/v/string_type",
          "traceback": [
            "\u001b[0;31m---------------------------------------------------------------------------\u001b[0m",
            "\u001b[0;31mValidationError\u001b[0m                           Traceback (most recent call last)",
            "\u001b[0;32m/tmp/ipython-input-5-2786978787.py\u001b[0m in \u001b[0;36m<cell line: 0>\u001b[0;34m()\u001b[0m\n\u001b[0;32m----> 1\u001b[0;31m \u001b[0mperson1\u001b[0m\u001b[0;34m=\u001b[0m\u001b[0mPerson1\u001b[0m\u001b[0;34m(\u001b[0m\u001b[0mname\u001b[0m\u001b[0;34m=\u001b[0m\u001b[0;34m\"Krish\"\u001b[0m\u001b[0;34m,\u001b[0m\u001b[0mage\u001b[0m\u001b[0;34m=\u001b[0m\u001b[0;36m35\u001b[0m\u001b[0;34m,\u001b[0m\u001b[0mcity\u001b[0m\u001b[0;34m=\u001b[0m\u001b[0;36m12\u001b[0m\u001b[0;34m)\u001b[0m\u001b[0;34m\u001b[0m\u001b[0;34m\u001b[0m\u001b[0m\n\u001b[0m\u001b[1;32m      2\u001b[0m \u001b[0mprint\u001b[0m\u001b[0;34m(\u001b[0m\u001b[0mperson1\u001b[0m\u001b[0;34m)\u001b[0m\u001b[0;34m\u001b[0m\u001b[0;34m\u001b[0m\u001b[0m\n",
            "\u001b[0;32m/usr/local/lib/python3.11/dist-packages/pydantic/main.py\u001b[0m in \u001b[0;36m__init__\u001b[0;34m(self, **data)\u001b[0m\n\u001b[1;32m    251\u001b[0m         \u001b[0;31m# `__tracebackhide__` tells pytest and some other tools to omit this function from tracebacks\u001b[0m\u001b[0;34m\u001b[0m\u001b[0;34m\u001b[0m\u001b[0m\n\u001b[1;32m    252\u001b[0m         \u001b[0m__tracebackhide__\u001b[0m \u001b[0;34m=\u001b[0m \u001b[0;32mTrue\u001b[0m\u001b[0;34m\u001b[0m\u001b[0;34m\u001b[0m\u001b[0m\n\u001b[0;32m--> 253\u001b[0;31m         \u001b[0mvalidated_self\u001b[0m \u001b[0;34m=\u001b[0m \u001b[0mself\u001b[0m\u001b[0;34m.\u001b[0m\u001b[0m__pydantic_validator__\u001b[0m\u001b[0;34m.\u001b[0m\u001b[0mvalidate_python\u001b[0m\u001b[0;34m(\u001b[0m\u001b[0mdata\u001b[0m\u001b[0;34m,\u001b[0m \u001b[0mself_instance\u001b[0m\u001b[0;34m=\u001b[0m\u001b[0mself\u001b[0m\u001b[0;34m)\u001b[0m\u001b[0;34m\u001b[0m\u001b[0;34m\u001b[0m\u001b[0m\n\u001b[0m\u001b[1;32m    254\u001b[0m         \u001b[0;32mif\u001b[0m \u001b[0mself\u001b[0m \u001b[0;32mis\u001b[0m \u001b[0;32mnot\u001b[0m \u001b[0mvalidated_self\u001b[0m\u001b[0;34m:\u001b[0m\u001b[0;34m\u001b[0m\u001b[0;34m\u001b[0m\u001b[0m\n\u001b[1;32m    255\u001b[0m             warnings.warn(\n",
            "\u001b[0;31mValidationError\u001b[0m: 1 validation error for Person1\ncity\n  Input should be a valid string [type=string_type, input_value=12, input_type=int]\n    For further information visit https://errors.pydantic.dev/2.11/v/string_type"
          ]
        }
      ],
      "source": [
        "person1=Person1(name=\"Krish\",age=35,city=12)\n",
        "print(person1)"
      ]
    },
    {
      "cell_type": "markdown",
      "metadata": {
        "id": "YkT66etubTsv"
      },
      "source": [
        "#### 2. Model with Optional Fields\n",
        "Add optional fields using Python's Optional type:\n",
        "\n"
      ]
    },
    {
      "cell_type": "code",
      "execution_count": 6,
      "metadata": {
        "id": "vTBtPsNJbTsw"
      },
      "outputs": [],
      "source": [
        "from typing import Optional\n",
        "class Employee(BaseModel):\n",
        "    id: int\n",
        "    name: str\n",
        "    department: str\n",
        "    salary: Optional[float] = None  # Optional with default value\n",
        "    is_active: Optional[bool] = True  # Optional with default True\n"
      ]
    },
    {
      "cell_type": "code",
      "execution_count": 7,
      "metadata": {
        "colab": {
          "base_uri": "https://localhost:8080/"
        },
        "id": "7t2bzSyxbTsy",
        "outputId": "50a34376-6639-419b-fa7d-fb456973d23a"
      },
      "outputs": [
        {
          "output_type": "stream",
          "name": "stdout",
          "text": [
            "id=1 name='John' department='IT' salary=None is_active=True\n"
          ]
        }
      ],
      "source": [
        "# Examples with and without optional fields\n",
        "emp1 = Employee(id=1, name=\"John\", department=\"IT\")\n",
        "print(emp1)  # id=1 name='John' department='IT' salary=None is_active=True"
      ]
    },
    {
      "cell_type": "markdown",
      "source": [
        "pydantic also performs typecasting"
      ],
      "metadata": {
        "id": "MC2whWZagOdf"
      }
    },
    {
      "cell_type": "code",
      "execution_count": 8,
      "metadata": {
        "colab": {
          "base_uri": "https://localhost:8080/"
        },
        "id": "YDWsDerpbTs0",
        "outputId": "d8dc6c5f-81c7-4c80-854a-8cbc51fdc449"
      },
      "outputs": [
        {
          "output_type": "stream",
          "name": "stdout",
          "text": [
            "id=2 name='Jane' department='HR' salary=60000.0 is_active=False\n"
          ]
        }
      ],
      "source": [
        "emp2 = Employee(id=2, name=\"Jane\", department=\"HR\", salary=60000, is_active=False)\n",
        "print(emp2)"
      ]
    },
    {
      "cell_type": "markdown",
      "metadata": {
        "id": "w1syEJgibTs0"
      },
      "source": [
        "Definition:\n",
        "- Optional[type]: Indicates the field can be None\n",
        "\n",
        "- Default value (= None or = True): Makes the field optional\n",
        "\n",
        "- Required fields must still be provided\n",
        "\n",
        "- Pydantic validates types even for optional fields when values are provided\n",
        "\n"
      ]
    },
    {
      "cell_type": "code",
      "execution_count": 9,
      "metadata": {
        "id": "W3W4sjWKbTs1"
      },
      "outputs": [],
      "source": [
        "from pydantic import BaseModel\n",
        "from typing import List\n",
        "\n",
        "class Classroom(BaseModel):\n",
        "    room_number: str\n",
        "    students: List[str]  # List of strings\n",
        "    capacity: int"
      ]
    },
    {
      "cell_type": "code",
      "execution_count": 10,
      "metadata": {
        "colab": {
          "base_uri": "https://localhost:8080/"
        },
        "id": "3S26NTckbTs1",
        "outputId": "0d60c0fa-9f8d-44d2-a033-420290aff934"
      },
      "outputs": [
        {
          "output_type": "stream",
          "name": "stdout",
          "text": [
            "room_number='A101' students=['Alice', 'Bob', 'Charlie'] capacity=30\n"
          ]
        }
      ],
      "source": [
        "# Create a classroom\n",
        "classroom = Classroom(\n",
        "    room_number=\"A101\",\n",
        "    students=(\"Alice\", \"Bob\", \"Charlie\"),\n",
        "    capacity=30\n",
        ")\n",
        "print(classroom)"
      ]
    },
    {
      "cell_type": "code",
      "execution_count": 11,
      "metadata": {
        "colab": {
          "base_uri": "https://localhost:8080/"
        },
        "id": "K0hZmAcRbTs2",
        "outputId": "f25d91a4-dde2-49ba-bd22-bc9a33e9adfc"
      },
      "outputs": [
        {
          "output_type": "stream",
          "name": "stdout",
          "text": [
            "1 validation error for Classroom\n",
            "students.1\n",
            "  Input should be a valid string [type=string_type, input_value=123, input_type=int]\n",
            "    For further information visit https://errors.pydantic.dev/2.11/v/string_type\n"
          ]
        }
      ],
      "source": [
        "try:\n",
        "    invalid_val=Classroom(room_number=\"A1\",students=[\"Krish\",123],capacity=30)\n",
        "except ValueError as e:\n",
        "    print(e)"
      ]
    },
    {
      "cell_type": "markdown",
      "metadata": {
        "id": "IReQNGpObTs2"
      },
      "source": [
        "#### 4. Model with Nested Models\n",
        "Create complex structures with nested models:\n",
        "\n"
      ]
    },
    {
      "cell_type": "code",
      "execution_count": 12,
      "metadata": {
        "colab": {
          "base_uri": "https://localhost:8080/"
        },
        "id": "UxcBM8hLbTs3",
        "outputId": "2f2d7abb-a42b-4161-c3d9-0350aec7c10b"
      },
      "outputs": [
        {
          "output_type": "stream",
          "name": "stdout",
          "text": [
            "customer_id=1 name='Emma' address=Address(street='123 Main St', city='Boston', zip_code=2108)\n"
          ]
        }
      ],
      "source": [
        "from pydantic import BaseModel\n",
        "\n",
        "class Address(BaseModel):\n",
        "    street: str\n",
        "    city: str\n",
        "    zip_code: int\n",
        "\n",
        "class Customer(BaseModel):\n",
        "    customer_id: int\n",
        "    name: str\n",
        "    address: Address  # Nested model\n",
        "\n",
        "# Create a customer with nested address\n",
        "customer = Customer(\n",
        "    customer_id=1,\n",
        "    name=\"Emma\",\n",
        "    address={\"street\": \"123 Main St\", \"city\": \"Boston\", \"zip_code\": \"02108\"}\n",
        ")\n",
        "print(customer)"
      ]
    },
    {
      "cell_type": "markdown",
      "metadata": {
        "id": "uyyqQAnnbTs3"
      },
      "source": [
        "#### Pydantic Fields: Customization and Constraints\n",
        "\n",
        "The Field function in Pydantic enhances model fields beyond basic type hints by allowing you to specify validation rules, default values, aliases, and more. Here's a comprehensive tutorial with examples.\n",
        "\n",
        "\n",
        "\n"
      ]
    },
    {
      "cell_type": "code",
      "execution_count": 13,
      "metadata": {
        "colab": {
          "base_uri": "https://localhost:8080/"
        },
        "id": "yAU2zlv0bTs3",
        "outputId": "420764ba-fd2a-4b4a-cc21-413433737f55"
      },
      "outputs": [
        {
          "output_type": "stream",
          "name": "stdout",
          "text": [
            "name='Book' price=10.0 quantity=10\n"
          ]
        }
      ],
      "source": [
        "from pydantic import BaseModel,Field\n",
        "class Item(BaseModel):\n",
        "    name:str=Field(min_length=2,max_length=50)\n",
        "    price:float= Field(gt=0,le=1000) #greater than 0, less than or equal to 1000\n",
        "    quantity:int=Field(ge=0)\n",
        "\n",
        "# Valid instance\n",
        "item = Item(name=\"Book\", price=10, quantity=10)\n",
        "\n",
        "print(item)\n"
      ]
    },
    {
      "cell_type": "code",
      "execution_count": 14,
      "metadata": {
        "colab": {
          "base_uri": "https://localhost:8080/"
        },
        "id": "lhDbcvTCbTs4",
        "outputId": "c7e34238-900b-4431-bfe5-4b9daa840ea6"
      },
      "outputs": [
        {
          "output_type": "stream",
          "name": "stdout",
          "text": [
            "username='alice' age=18 email='user@example.com'\n",
            "username='bob' age=25 email='bob@domain.com'\n"
          ]
        }
      ],
      "source": [
        "from pydantic import BaseModel, Field\n",
        "\n",
        "class User(BaseModel):\n",
        "    username: str = Field(..., description=\"Unique username for the user\")\n",
        "    age: int = Field(default=18, description=\"User age, defaults to 18\")\n",
        "    email: str = Field(default_factory=lambda: \"user@example.com\", description=\"Default email address\")\n",
        "\n",
        "# Examples\n",
        "user1 = User(username=\"alice\")\n",
        "print(user1)  # username='alice' age=18 email='user@example.com'\n",
        "\n",
        "user2 = User(username=\"bob\", age=25, email=\"bob@domain.com\")\n",
        "print(user2)  # username='bob' age=25 email='bob@domain.com'"
      ]
    },
    {
      "cell_type": "code",
      "execution_count": 15,
      "metadata": {
        "colab": {
          "base_uri": "https://localhost:8080/"
        },
        "id": "hOjKuJZDbTs5",
        "outputId": "236e45f6-9342-4ecc-b0b9-2b47fbc5c137"
      },
      "outputs": [
        {
          "output_type": "stream",
          "name": "stdout",
          "text": [
            "{'properties': {'username': {'description': 'Unique username for the user', 'title': 'Username', 'type': 'string'}, 'age': {'default': 18, 'description': 'User age, defaults to 18', 'title': 'Age', 'type': 'integer'}, 'email': {'description': 'Default email address', 'title': 'Email', 'type': 'string'}}, 'required': ['username'], 'title': 'User', 'type': 'object'}\n"
          ]
        }
      ],
      "source": [
        "print(User.model_json_schema())"
      ]
    }
  ],
  "metadata": {
    "kernelspec": {
      "display_name": "Python 3",
      "language": "python",
      "name": "python3"
    },
    "language_info": {
      "codemirror_mode": {
        "name": "ipython",
        "version": 3
      },
      "file_extension": ".py",
      "mimetype": "text/x-python",
      "name": "python",
      "nbconvert_exporter": "python",
      "pygments_lexer": "ipython3",
      "version": "3.12.0"
    },
    "colab": {
      "provenance": [],
      "include_colab_link": true
    }
  },
  "nbformat": 4,
  "nbformat_minor": 0
}